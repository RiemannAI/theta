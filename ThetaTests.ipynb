{
 "cells": [
  {
   "cell_type": "code",
   "execution_count": 1,
   "metadata": {},
   "outputs": [],
   "source": [
    "from theta.rtbm import RTBM\n",
    "import numpy as np\n",
    "import matplotlib.pyplot as plt\n",
    "from theta.minimizer import CMA, SGD\n",
    "from theta import costfunctions\n",
    "%matplotlib inline"
   ]
  },
  {
   "cell_type": "code",
   "execution_count": 2,
   "metadata": {},
   "outputs": [],
   "source": [
    "ndim = 2\n",
    "nhid = 1\n",
    "rtbm = RTBM(ndim, nhid, \n",
    "            minimization_bound=55, \n",
    "            positive_T=True, \n",
    "            positive_Q=True,\n",
    "            gaussian_init=True           )\n",
    "\n",
    "def espacio(sample, n=1e5):\n",
    "    n = int(n)\n",
    "    u = np.max(sample)\n",
    "    l = np.min(sample)\n",
    "    epsilon = np.abs(u)/4.0\n",
    "    u += epsilon\n",
    "    l -= epsilon\n",
    "    r = np.random.rand(ndim, n)\n",
    "    return l + r*(u-l), pow(u-l, ndim)/n"
   ]
  },
  {
   "cell_type": "code",
   "execution_count": 3,
   "metadata": {},
   "outputs": [],
   "source": [
    "# Check that the integral integrates correctly\n",
    "if False:\n",
    "    nevt = int(1e5)\n",
    "    ff = lambda x: np.prod(np.sin(x*np.pi), axis=0)\n",
    "    def scale_01(x):\n",
    "        xmax = np.max(x, axis=0)\n",
    "        xmin = np.min(x, axis=0)\n",
    "        return (x - xmin)/(xmax-xmin)\n",
    "\n",
    "    print(\"- > Checking the RTBM for sanity\")\n",
    "    r, _ = rtbm.make_sample(nevt)\n",
    "    rmean = np.mean(r, axis=0)\n",
    "    rstd = np.std(r, axis=0)\n",
    "    rmax = rmean + 5.0*rstd\n",
    "    rmin = rmean - 5.0*rstd\n",
    "    delta = rmax-rmin\n",
    "    new_r = np.random.rand(ndim, nevt)*delta.reshape(ndim,1) + rmin.reshape(ndim, 1)\n",
    "    px = rtbm(new_r)/nevt\n",
    "    \n",
    "    print(f\"sum: {np.sum(px)}\")\n",
    "    print(f\"N/V: {1/np.prod(delta)}\")\n",
    "    print(f\"Integral=1: {np.prod(delta)*np.sum(px)}\")\n",
    "    \n",
    "    def g(z):\n",
    "        x = (z-rmin.reshape(ndim,1))/(rmax-rmin).reshape(ndim,1)\n",
    "        return ff(x)\n",
    "\n",
    "    print(\"- > Checking the actual result of the integral\")\n",
    "    random_uniform = np.stack([np.random.uniform(rmin[i], rmax[i], size=nevt) for i in range(ndim)], axis=0)\n",
    "    res_true = ff(np.random.rand(ndim, nevt))/nevt\n",
    "    res = g(random_uniform)/nevt\n",
    "    print(f\"Integral true result: {np.sum(res_true)}\")\n",
    "    print(f\"Integral rescaled_result: {np.sum(res)}\")\n",
    "    \n",
    "    print(\"- > Integrating with the simple RTBM g(z)\")\n",
    "    #r,  _ = rtbm.make_sample(nevt)\n",
    "    prob_x = rtbm(r.T)[0]\n",
    "    resbm = g(r.T)/nevt/prob_x/np.prod(delta)\n",
    "    print(f\"RTBM integral: {np.sum(resbm)}\")\n",
    "    \n",
    "    print(\"- > Asking the RTBM for the probability and x between 0 and 1\")\n",
    "    # Now do everything from the RTBM\n",
    "    rtbm_x, rho_x, r_raw = rtbm.make_sample_rho(nevt)\n",
    "    res = ff(rtbm_x.T)/nevt/rho_x\n",
    "    print(f\"RTBM sample integral: {np.sum(res)}\")"
   ]
  },
  {
   "cell_type": "code",
   "execution_count": 4,
   "metadata": {},
   "outputs": [
    {
     "data": {
      "image/png": "[encoded data removed]",
      "text/plain": [
       "<Figure size 1152x216 with 2 Axes>"
      ]
     },
     "metadata": {
      "needs_background": "light"
     },
     "output_type": "display_data"
    }
   ],
   "source": [
    "plt.rcParams['figure.figsize'] = [16, 3]\n",
    "\n",
    "def do_rescale(xrand, y):\n",
    "    max_per_d = np.max(xrand, axis=0)\n",
    "    min_per_d = np.min(xrand, axis=0)\n",
    "    delta = max_per_d - min_per_d\n",
    "    new_rand = (xrand-min_per_d)/delta\n",
    "    new_y = y*np.prod(delta)\n",
    "    return new_rand, new_y\n",
    "\n",
    "def dome(nevt=1e3, do_rho=True, rescale=True):\n",
    "    # Sample after gaussian initialization\n",
    "    nevt = int(nevt)\n",
    "    xrand, _ = rtbm.make_sample(nevt)\n",
    "    jac = rtbm(xrand.T)[0]\n",
    "    \n",
    "    if rescale:\n",
    "        xrand, jac = do_rescale(xrand, jac)\n",
    "    \n",
    "    for d in range(ndim):\n",
    "        plt.subplot(1,ndim,d+1)\n",
    "        plt.title(f\"Dimension: {d+1}\")\n",
    "        if do_rho:\n",
    "            x = sorted(xrand[:,d])\n",
    "            y = [i for _, i in sorted(zip(xrand[:,d], jac))]\n",
    "            plt.plot(x, y, color=\"blue\", label=f\"p(x_{d+1})\", alpha=0.5)\n",
    "        plt.hist(xrand[:, d], bins=25, density=True, color=\"lightgray\", label=\"Sample\")\n",
    "    plt.show()\n",
    "    return xrand\n",
    "xrand = dome(do_rho=False)"
   ]
  },
  {
   "cell_type": "code",
   "execution_count": 5,
   "metadata": {},
   "outputs": [
    {
     "data": {
      "text/plain": [
       "(1000, 2)"
      ]
     },
     "execution_count": 5,
     "metadata": {},
     "output_type": "execute_result"
    }
   ],
   "source": [
    "xrand.shape"
   ]
  },
  {
   "cell_type": "code",
   "execution_count": 6,
   "metadata": {},
   "outputs": [
    {
     "name": "stdout",
     "output_type": "stream",
     "text": [
      "0.1450733273547025\n"
     ]
    }
   ],
   "source": [
    "r, jac = espacio(xrand, n=1e5)\n",
    "aa = rtbm(r)\n",
    "print(np.sum(aa)*jac)"
   ]
  },
  {
   "cell_type": "code",
   "execution_count": 7,
   "metadata": {},
   "outputs": [
    {
     "data": {
      "image/png": "[encoded data removed]",
      "text/plain": [
       "<Figure size 1152x216 with 2 Axes>"
      ]
     },
     "metadata": {
      "needs_background": "light"
     },
     "output_type": "display_data"
    },
    {
     "name": "stdout",
     "output_type": "stream",
     "text": [
      "Current mse: 0.0045843032569743165\n",
      "Current KL: 2.694390772314512\n"
     ]
    }
   ],
   "source": [
    "# Now train the RTBM to a _different_ functional form\n",
    "from scipy.special import expit\n",
    "n = int(1e4)\n",
    "ff = lambda x: np.prod(np.sin(x*np.pi*2)**12, axis=1)\n",
    "xvals = np.random.rand(n, ndim)\n",
    "yvals_raw = ff(xvals)\n",
    "yvals = yvals_raw/np.sum(yvals_raw)\n",
    "for d in range(ndim):\n",
    "    plt.subplot(1,ndim,d+1)\n",
    "    plt.title(f\"Dimension: {d+1}\")\n",
    "    x = sorted(xvals[:,d])\n",
    "    y = [i for _, i in sorted(zip(xvals[:,d], yvals))]\n",
    "    plt.plot(x, y, color=\"blue\", label=f\"p(x_{d+1})\")\n",
    "    #plt.hist(xrand[:, d], bins=25, density=True, color=\"lightgray\", label=\"Sample\")\n",
    "plt.show()\n",
    "\n",
    "current_val = rtbm(xvals.T)[0]\n",
    "print(f\"Current mse: {costfunctions.mse.cost(current_val, yvals)}\")\n",
    "print(f\"Current KL: {costfunctions.kullbackLeibler.cost(current_val, yvals)}\")"
   ]
  },
  {
   "cell_type": "code",
   "execution_count": 8,
   "metadata": {},
   "outputs": [
    {
     "data": {
      "image/png": "[encoded data removed]",
      "text/plain": [
       "<Figure size 1152x216 with 2 Axes>"
      ]
     },
     "metadata": {
      "needs_background": "light"
     },
     "output_type": "display_data"
    }
   ],
   "source": [
    "nevt = int(1e4)\n",
    "xvals_train, _ = rtbm.make_sample(nevt)\n",
    "jac = rtbm(xvals_train.T)\n",
    "new_xvals, jac = do_rescale(xvals_train, jac)\n",
    "\n",
    "# rescale the sample\n",
    "yvals_train = ff(new_xvals)*jac\n",
    "for d in range(ndim):\n",
    "    plt.subplot(1,ndim,d+1)\n",
    "    plt.title(f\"Dimension: {d+1}\")\n",
    "    x = sorted(xvals_train[:,d])\n",
    "    y = [i for _, i in sorted(zip(xvals_train[:,d], yvals_train[0]))]\n",
    "    plt.plot(x, y, color=\"blue\", label=f\"p(x_{d+1})\")\n",
    "    #plt.hist(xrand[:, d], bins=25, density=True, color=\"lightgray\", label=\"Sample\")\n",
    "plt.show()"
   ]
  },
  {
   "cell_type": "code",
   "execution_count": null,
   "metadata": {
    "scrolled": true
   },
   "outputs": [
    {
     "name": "stdout",
     "output_type": "stream",
     "text": [
      "(5_w,10)-aCMA-ES (mu_w=3.2,w_1=45%) in dimension 9 (seed=217324, Thu Feb 11 16:58:48 2021)\n",
      "Iterat #Fevals   function value  axis ratio  sigma  min&max std  t[m:s]\n",
      "    1     10 8.333700602267235e+02 1.0e+00 3.08e-01  3e-01  3e-01 0:00.4\n",
      "    2     20 8.119821271321396e+02 1.1e+00 2.85e-01  3e-01  3e-01 0:00.9\n",
      "    3     30 8.061669895020171e+02 1.2e+00 2.57e-01  2e-01  3e-01 0:01.3\n"
     ]
    },
    {
     "name": "stderr",
     "output_type": "stream",
     "text": [
      "/media/storageSSD/Academic_Workspace/N3PDF/src/pycma/cma/utilities/utils.py:343: UserWarning: function values with index [2]/[] are nan/None and will be set to the median value 881.0256513527671 (class=CMAEvolutionStrategy method=ask iteration=2)\n",
      "  warnings.warn(msg + ' (' +\n"
     ]
    },
    {
     "name": "stdout",
     "output_type": "stream",
     "text": [
      "   10    100 7.694075335718017e+02 1.8e+00 1.85e-01  1e-01  2e-01 0:04.3\n",
      "   19    190 7.597379210635526e+02 2.6e+00 1.40e-01  8e-02  2e-01 0:08.3\n",
      "   31    310 7.549561595761573e+02 3.9e+00 6.72e-02  3e-02  9e-02 0:13.5\n",
      "   45    450 7.549298294855764e+02 6.0e+00 5.12e-02  2e-02  7e-02 0:19.6\n",
      "   62    620 7.543163272807898e+02 9.8e+00 1.30e-02  2e-03  2e-02 0:26.9\n",
      "   81    810 7.543076957256613e+02 1.5e+01 4.02e-03  5e-04  6e-03 0:35.0\n",
      "  100   1000 7.543073139974922e+02 2.3e+01 1.43e-03  1e-04  2e-03 0:43.1\n",
      "  124   1240 7.543073025881274e+02 3.7e+01 1.86e-04  9e-06  3e-04 0:53.4\n"
     ]
    }
   ],
   "source": [
    "from cma import CMAEvolutionStrategy\n",
    "\n",
    "x0 = rtbm.get_parameters()\n",
    "bounds = rtbm.get_bounds()\n",
    "\n",
    "def optimize(n=1):\n",
    "    sigma = np.min(bounds[1])/(4.0*n)\n",
    "    es = CMAEvolutionStrategy(x0, sigma, {\"bounds\":bounds, \"maxiter\":250})\n",
    "    # Create a function to be optimized:\n",
    "    def fun_crate(xin, ytrue, mode = \"kl\"):\n",
    "        def objective_fun(params=None):\n",
    "            if params is not None and not rtbm.set_parameters(params):\n",
    "                return np.NaN\n",
    "            prob = rtbm(xin.T)\n",
    "            if mode == \"kl\":\n",
    "                return -np.sum(ytrue*np.log(prob))\n",
    "            elif mode == \"mse\":\n",
    "                return np.sum((prob-ytrue)**2)\n",
    "\n",
    "        return objective_fun\n",
    "\n",
    "    target = fun_crate(xvals_train, yvals_train, mode=\"kl\")\n",
    "    es.optimize(target)\n",
    "    return es.result\n",
    "    \n",
    "n = 1\n",
    "res = optimize(n)\n",
    "while not rtbm.set_parameters(res.xbest):\n",
    "    print(\"Rerunning the optimization, changing sigma\")\n",
    "    n+=1\n",
    "    optimize(n)    "
   ]
  },
  {
   "cell_type": "code",
   "execution_count": null,
   "metadata": {},
   "outputs": [],
   "source": [
    "new_sample = dome(do_rho=True)\n",
    "new_pred = rtbm(new_sample.T)[0]\n",
    "new_y_raw = ff(new_sample)\n",
    "new_y = new_y_raw/np.sum(new_y_raw)\n",
    "print(f\"Current mse: {costfunctions.mse.cost(new_pred, new_y)}\")\n",
    "print(f\"Current KL: {costfunctions.kullbackLeibler.cost(new_pred, new_y)}\")\n",
    "print(\"Integral:\")\n",
    "r, jac = espacio(new_sample, n=1e5)\n",
    "aa = rtbm(r)\n",
    "print(np.sum(aa)*jac)"
   ]
  },
  {
   "cell_type": "code",
   "execution_count": null,
   "metadata": {},
   "outputs": [],
   "source": []
  }
 ],
 "metadata": {
  "kernelspec": {
   "display_name": "vflow",
   "language": "python",
   "name": "vflow"
  },
  "language_info": {
   "codemirror_mode": {
    "name": "ipython",
    "version": 3
   },
   "file_extension": ".py",
   "mimetype": "text/x-python",
   "name": "python",
   "nbconvert_exporter": "python",
   "pygments_lexer": "ipython3",
   "version": "3.9.1"
  }
 },
 "nbformat": 4,
 "nbformat_minor": 4
}
