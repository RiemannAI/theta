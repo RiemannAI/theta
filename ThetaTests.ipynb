{
 "cells": [
  {
   "cell_type": "code",
   "execution_count": 1,
   "metadata": {},
   "outputs": [],
   "source": [
    "from theta.rtbm import RTBM\n",
    "import numpy as np\n",
    "import matplotlib.pyplot as plt\n",
    "from theta.minimizer import CMA, SGD\n",
    "from theta import costfunctions\n",
    "%matplotlib inline"
   ]
  },
  {
   "cell_type": "code",
   "execution_count": 2,
   "metadata": {},
   "outputs": [],
   "source": [
    "ndim = 4\n",
    "nhid = 1\n",
    "rtbm = RTBM(ndim, nhid, \n",
    "            minimization_bound=55, \n",
    "            positive_T=True, \n",
    "            positive_Q=True,\n",
    "            gaussian_init=True           )\n",
    "\n",
    "def espacio(sample, n=1e5):\n",
    "    n = int(n)\n",
    "    u = np.max(sample)\n",
    "    l = np.min(sample)\n",
    "    epsilon = np.abs(u)/4.0\n",
    "    u += epsilon\n",
    "    l -= epsilon\n",
    "    r = np.random.rand(ndim, n)\n",
    "    return l + r*(u-l), pow(u-l, ndim)/n"
   ]
  },
  {
   "cell_type": "code",
   "execution_count": 3,
   "metadata": {},
   "outputs": [],
   "source": [
    "# Check that the integral integrates correctly\n",
    "if False:\n",
    "    nevt = int(1e6)\n",
    "    ff = lambda x: np.prod(np.sin(x*np.pi*2)**2, axis=0)\n",
    "    def scale_01(x):\n",
    "        xmax = np.max(x, axis=0)\n",
    "        xmin = np.min(x, axis=0)\n",
    "        return (x - xmin)/(xmax-xmin)\n",
    "\n",
    "    print(\"- > Checking the RTBM for sanity\")\n",
    "    r, _ = rtbm.make_sample(nevt)\n",
    "    rmean = np.mean(r, axis=0)\n",
    "    rstd = np.std(r, axis=0)\n",
    "    rmax = rmean + 5.0*rstd\n",
    "    rmin = rmean - 5.0*rstd\n",
    "    delta = rmax-rmin\n",
    "    new_r = np.random.rand(ndim, nevt)*delta.reshape(ndim,1) + rmin.reshape(ndim, 1)\n",
    "    px = rtbm(new_r)/nevt\n",
    "    \n",
    "    print(f\"sum: {np.sum(px)}\")\n",
    "    print(f\"N/V: {1/np.prod(delta)}\")\n",
    "    print(f\"Integral=1: {np.prod(delta)*np.sum(px)}\")\n",
    "    \n",
    "    def g(z):\n",
    "        x = (z-rmin.reshape(ndim,1))/(rmax-rmin).reshape(ndim,1)\n",
    "        return ff(x)\n",
    "\n",
    "    print(\"- > Checking the actual result of the integral\")\n",
    "    random_uniform = np.stack([np.random.uniform(rmin[i], rmax[i], size=nevt) for i in range(ndim)], axis=0)\n",
    "    res_true = ff(np.random.rand(ndim, nevt))/nevt\n",
    "    res = g(random_uniform)/nevt\n",
    "    print(f\"Integral true result: {np.sum(res_true)}\")\n",
    "    print(f\"Integral rescaled_result: {np.sum(res)}\")\n",
    "    \n",
    "    print(\"- > Integrating with the simple RTBM g(z)\")\n",
    "    #r,  _ = rtbm.make_sample(nevt)\n",
    "    prob_x = rtbm(r.T)[0]\n",
    "    resbm = g(r.T)/nevt/prob_x/np.prod(delta)\n",
    "    print(f\"RTBM integral: {np.sum(resbm)}\")\n",
    "    \n",
    "    print(\"- > Asking the RTBM for the probability and x between 0 and 1\")\n",
    "    # Now do everything from the RTBM\n",
    "    rtbm_x, rho_x, r_raw = rtbm.make_sample_rho(nevt)\n",
    "    res = ff(rtbm_x.T)/nevt/rho_x\n",
    "    print(f\"RTBM sample integral: {np.sum(res)}\")"
   ]
  },
  {
   "cell_type": "code",
   "execution_count": 4,
   "metadata": {},
   "outputs": [
    {
     "data": {
      "image/png": "[encoded data removed]",
      "text/plain": [
       "<matplotlib.figure.Figure at 0x7f907ad2fac8>"
      ]
     },
     "metadata": {
      "needs_background": "light"
     },
     "output_type": "display_data"
    }
   ],
   "source": [
    "plt.rcParams['figure.figsize'] = [16, 3]\n",
    "\n",
    "def do_rescale(xrand, y):\n",
    "    max_per_d = np.max(xrand, axis=0)\n",
    "    min_per_d = np.min(xrand, axis=0)\n",
    "    delta = max_per_d - min_per_d\n",
    "    new_rand = (xrand-min_per_d)/delta\n",
    "    new_y = y*np.prod(delta)\n",
    "    return new_rand, new_y\n",
    "\n",
    "def dome(nevt=1e3, do_rho=True, rescale=True):\n",
    "    # Sample after gaussian initialization\n",
    "    nevt = int(nevt)\n",
    "    xrand, _ = rtbm.make_sample(nevt)\n",
    "    jac = rtbm(xrand.T)[0]\n",
    "    \n",
    "    if rescale:\n",
    "        xrand, jac = do_rescale(xrand, jac)\n",
    "    \n",
    "    for d in range(ndim):\n",
    "        plt.subplot(1,ndim,d+1)\n",
    "        plt.title(f\"Dimension: {d+1}\")\n",
    "        if do_rho:\n",
    "            x = sorted(xrand[:,d])\n",
    "            y = [i for _, i in sorted(zip(xrand[:,d], jac))]\n",
    "            plt.plot(x, y, color=\"blue\", label=f\"p(x_{d+1})\", alpha=0.5)\n",
    "        plt.hist(xrand[:, d], bins=25, density=True, color=\"lightgray\", label=\"Sample\")\n",
    "    plt.show()\n",
    "    return xrand\n",
    "xrand = dome(do_rho=False)"
   ]
  },
  {
   "cell_type": "code",
   "execution_count": 5,
   "metadata": {},
   "outputs": [
    {
     "data": {
      "text/plain": [
       "(1000, 4)"
      ]
     },
     "execution_count": 5,
     "metadata": {},
     "output_type": "execute_result"
    }
   ],
   "source": [
    "xrand.shape"
   ]
  },
  {
   "cell_type": "code",
   "execution_count": 6,
   "metadata": {},
   "outputs": [
    {
     "name": "stdout",
     "output_type": "stream",
     "text": [
      "0.02121704858289291\n"
     ]
    }
   ],
   "source": [
    "r, jac = espacio(xrand, n=1e5)\n",
    "aa = rtbm(r)\n",
    "print(np.sum(aa)*jac)"
   ]
  },
  {
   "cell_type": "code",
   "execution_count": 7,
   "metadata": {},
   "outputs": [
    {
     "data": {
      "image/png": "[encoded data removed]",
      "text/plain": [
       "<matplotlib.figure.Figure at 0x7f907ab028d0>"
      ]
     },
     "metadata": {
      "needs_background": "light"
     },
     "output_type": "display_data"
    },
    {
     "name": "stdout",
     "output_type": "stream",
     "text": [
      "Current mse: 2.1413346697728987e-05\n",
      "Current KL: 5.3755206959857915\n"
     ]
    }
   ],
   "source": [
    "# Now train the RTBM to a _different_ functional form\n",
    "from scipy.special import expit\n",
    "n = int(1e4)\n",
    "ff = lambda x: np.prod(np.sin(x*np.pi*2)**12, axis=1)\n",
    "xvals = np.random.rand(n, ndim)\n",
    "yvals_raw = ff(xvals)\n",
    "yvals = yvals_raw/np.sum(yvals_raw)\n",
    "for d in range(ndim):\n",
    "    plt.subplot(1,ndim,d+1)\n",
    "    plt.title(f\"Dimension: {d+1}\")\n",
    "    x = sorted(xvals[:,d])\n",
    "    y = [i for _, i in sorted(zip(xvals[:,d], yvals))]\n",
    "    plt.plot(x, y, color=\"blue\", label=f\"p(x_{d+1})\")\n",
    "    #plt.hist(xrand[:, d], bins=25, density=True, color=\"lightgray\", label=\"Sample\")\n",
    "plt.show()\n",
    "\n",
    "current_val = rtbm(xvals.T)[0]\n",
    "print(f\"Current mse: {costfunctions.mse.cost(current_val, yvals)}\")\n",
    "print(f\"Current KL: {costfunctions.kullbackLeibler.cost(current_val, yvals)}\")"
   ]
  },
  {
   "cell_type": "code",
   "execution_count": 8,
   "metadata": {},
   "outputs": [
    {
     "data": {
      "image/png": "[encoded data removed]",
      "text/plain": [
       "<matplotlib.figure.Figure at 0x7f907ad499b0>"
      ]
     },
     "metadata": {
      "needs_background": "light"
     },
     "output_type": "display_data"
    },
    {
     "name": "stdout",
     "output_type": "stream",
     "text": [
      "\n",
      "The plots look bad, because we are generating a lot of points in the middle\n",
      "where the function is 0. The RTBM should learn to avoid the middle\n",
      "\n",
      "RTBM integral pre training: 0.0028261167941890995\n"
     ]
    }
   ],
   "source": [
    "nevt = int(1e7)\n",
    "xvals, px, xvals_originals = rtbm.make_sample_rho(nevt)\n",
    "jac = 1.0/px/nevt\n",
    "\n",
    "# rescale the sample\n",
    "yvals_train = ff(xvals)*jac\n",
    "for d in range(ndim):\n",
    "    plt.subplot(1,ndim,d+1)\n",
    "    plt.title(f\"Dimension: {d+1}\")\n",
    "    x = sorted(xvals_originals[:,d])\n",
    "    y = [i for _, i in sorted(zip(xvals_originals[:,d], yvals_train))]\n",
    "    plt.plot(x, y, color=\"blue\", label=f\"p(x_{d+1})\")\n",
    "    #plt.hist(xrand[:, d], bins=25, density=True, color=\"lightgray\", label=\"Sample\")\n",
    "plt.show()\n",
    "print(\"\"\"\n",
    "The plots look bad, because we are generating a lot of points in the middle\n",
    "where the function is 0. The RTBM should learn to avoid the middle\n",
    "\"\"\")\n",
    "res = ff(xvals)/nevt/px\n",
    "print(f\"RTBM integral pre training: {np.sum(res)}\")"
   ]
  },
  {
   "cell_type": "code",
   "execution_count": 9,
   "metadata": {
    "scrolled": true
   },
   "outputs": [
    {
     "name": "stdout",
     "output_type": "stream",
     "text": [
      "(6_w,12)-aCMA-ES (mu_w=3.7,w_1=40%) in dimension 20 (seed=104182, Thu Feb 11 19:07:10 2021)\n",
      "Iterat #Fevals   function value  axis ratio  sigma  min&max std  t[m:s]\n",
      "    1     12 nan 1.0e+00 3.36e-01  3e-01  3e-01 0:00.0\n",
      "    2     24 nan 1.1e+00 3.24e-01  3e-01  3e-01 0:00.0\n"
     ]
    },
    {
     "name": "stderr",
     "output_type": "stream",
     "text": [
      "/usr/local/lib/python3.6/dist-packages/numpy/core/fromnumeric.py:3373: RuntimeWarning: Mean of empty slice.\n",
      "  out=out, **kwargs)\n",
      "/usr/local/lib/python3.6/dist-packages/numpy/core/_methods.py:170: RuntimeWarning: invalid value encountered in double_scalars\n",
      "  ret = ret.dtype.type(ret / rcount)\n",
      "/home/juacrumar/N3PDF/vegasflow/vflow/lib/python3.6/site-packages/cma/utilities/utils.py:347: UserWarning: function values with index [0, 1, 2, 3, 4, 5, 6, 7, 8, 9, 10, 11]/[] are nan/None and will be set to the median value nan (class=CMAEvolutionStrategy method=ask )\n",
      "  ')')\n",
      "/home/juacrumar/N3PDF/vegasflow/vflow/lib/python3.6/site-packages/cma/utilities/utils.py:347: UserWarning: function values with index [0, 1, 2, 3, 4, 5, 6, 7, 8, 9, 10, 11] are not finite but [nan, nan, nan, nan, nan, nan, nan, nan, nan, nan, nan, nan]. (class=CMAEvolutionStrategy method=ask )\n",
      "  ')')\n",
      "/home/juacrumar/N3PDF/vegasflow/vflow/lib/python3.6/site-packages/cma/utilities/utils.py:347: UserWarning: function values with index [0, 1, 2, 3, 4, 5, 6, 7, 8, 9, 10, 11]/[] are nan/None and will be set to the median value nan (class=CMAEvolutionStrategy method=ask iteration=1)\n",
      "  ')')\n",
      "/home/juacrumar/N3PDF/vegasflow/vflow/lib/python3.6/site-packages/cma/utilities/utils.py:347: UserWarning: function values with index [0, 1, 2, 3, 4, 5, 6, 7, 8, 9, 10, 11] are not finite but [nan, nan, nan, nan, nan, nan, nan, nan, nan, nan, nan, nan]. (class=CMAEvolutionStrategy method=ask iteration=1)\n",
      "  ')')\n"
     ]
    },
    {
     "ename": "TypeError",
     "evalue": "object of type 'NoneType' has no len()",
     "output_type": "error",
     "traceback": [
      "\u001b[0;31m---------------------------------------------------------------------------\u001b[0m",
      "\u001b[0;31mTypeError\u001b[0m                                 Traceback (most recent call last)",
      "\u001b[0;32m<ipython-input-9-935c24f72b4e>\u001b[0m in \u001b[0;36m<module>\u001b[0;34m\u001b[0m\n\u001b[1;32m     26\u001b[0m \u001b[0mn\u001b[0m \u001b[0;34m=\u001b[0m \u001b[0;36m1\u001b[0m\u001b[0;34m\u001b[0m\u001b[0;34m\u001b[0m\u001b[0m\n\u001b[1;32m     27\u001b[0m \u001b[0mres\u001b[0m \u001b[0;34m=\u001b[0m \u001b[0moptimize\u001b[0m\u001b[0;34m(\u001b[0m\u001b[0mn\u001b[0m\u001b[0;34m)\u001b[0m\u001b[0;34m\u001b[0m\u001b[0;34m\u001b[0m\u001b[0m\n\u001b[0;32m---> 28\u001b[0;31m \u001b[0;32mwhile\u001b[0m \u001b[0;32mnot\u001b[0m \u001b[0mrtbm\u001b[0m\u001b[0;34m.\u001b[0m\u001b[0mset_parameters\u001b[0m\u001b[0;34m(\u001b[0m\u001b[0mres\u001b[0m\u001b[0;34m.\u001b[0m\u001b[0mxbest\u001b[0m\u001b[0;34m)\u001b[0m\u001b[0;34m:\u001b[0m\u001b[0;34m\u001b[0m\u001b[0;34m\u001b[0m\u001b[0m\n\u001b[0m\u001b[1;32m     29\u001b[0m     \u001b[0mprint\u001b[0m\u001b[0;34m(\u001b[0m\u001b[0;34m\"Rerunning the optimization, changing sigma\"\u001b[0m\u001b[0;34m)\u001b[0m\u001b[0;34m\u001b[0m\u001b[0;34m\u001b[0m\u001b[0m\n\u001b[1;32m     30\u001b[0m     \u001b[0mn\u001b[0m\u001b[0;34m+=\u001b[0m\u001b[0;36m1\u001b[0m\u001b[0;34m\u001b[0m\u001b[0;34m\u001b[0m\u001b[0m\n",
      "\u001b[0;32m~/N3PDF/theta/theta/rtbm.py\u001b[0m in \u001b[0;36mset_parameters\u001b[0;34m(self, params)\u001b[0m\n\u001b[1;32m    383\u001b[0m         \"\"\"\n\u001b[1;32m    384\u001b[0m \u001b[0;34m\u001b[0m\u001b[0m\n\u001b[0;32m--> 385\u001b[0;31m         \u001b[0;32mif\u001b[0m \u001b[0mlen\u001b[0m\u001b[0;34m(\u001b[0m\u001b[0mparams\u001b[0m\u001b[0;34m)\u001b[0m \u001b[0;34m!=\u001b[0m \u001b[0mself\u001b[0m\u001b[0;34m.\u001b[0m\u001b[0m_size\u001b[0m\u001b[0;34m:\u001b[0m\u001b[0;34m\u001b[0m\u001b[0;34m\u001b[0m\u001b[0m\n\u001b[0m\u001b[1;32m    386\u001b[0m             \u001b[0;32mraise\u001b[0m \u001b[0mException\u001b[0m\u001b[0;34m(\u001b[0m\u001b[0;34m'Size does no match.'\u001b[0m\u001b[0;34m)\u001b[0m\u001b[0;34m\u001b[0m\u001b[0;34m\u001b[0m\u001b[0m\n\u001b[1;32m    387\u001b[0m \u001b[0;34m\u001b[0m\u001b[0m\n",
      "\u001b[0;31mTypeError\u001b[0m: object of type 'NoneType' has no len()"
     ]
    }
   ],
   "source": [
    "from cma import CMAEvolutionStrategy\n",
    "\n",
    "x0 = rtbm.get_parameters()\n",
    "bounds = rtbm.get_bounds()\n",
    "\n",
    "def optimize(n=1):\n",
    "    sigma = np.min(bounds[1])/(4.0*n)\n",
    "    es = CMAEvolutionStrategy(x0, sigma, {\"bounds\":bounds, \"maxiter\":550})\n",
    "    # Create a function to be optimized:\n",
    "    def fun_crate(xin, ytrue, mode = \"kl\"):\n",
    "        def objective_fun(params=None):\n",
    "            if params is not None and not rtbm.set_parameters(params):\n",
    "                return np.NaN\n",
    "            prob = rtbm(xin.T)\n",
    "            if mode == \"kl\":\n",
    "                return -np.sum(ytrue*np.log(prob))\n",
    "            elif mode == \"mse\":\n",
    "                return np.sum((prob-ytrue)**2)\n",
    "\n",
    "        return objective_fun\n",
    "\n",
    "    target = fun_crate(xvals_originals, yvals_train, mode=\"kl\")\n",
    "    es.optimize(target)\n",
    "    return es.result\n",
    "    \n",
    "n = 1\n",
    "res = optimize(n)\n",
    "while not rtbm.set_parameters(res.xbest):\n",
    "    print(\"Rerunning the optimization, changing sigma\")\n",
    "    n+=1\n",
    "    optimize(n)    "
   ]
  },
  {
   "cell_type": "code",
   "execution_count": null,
   "metadata": {},
   "outputs": [],
   "source": [
    "new_sample = dome(do_rho=True)\n",
    "new_pred = rtbm(new_sample.T)[0]\n",
    "new_y_raw = ff(new_sample)\n",
    "new_y = new_y_raw/np.sum(new_y_raw)\n",
    "print(f\"Current mse: {costfunctions.mse.cost(new_pred, new_y)}\")\n",
    "print(f\"Current KL: {costfunctions.kullbackLeibler.cost(new_pred, new_y)}\")\n",
    "xvals, px, xvals_originals = rtbm.make_sample_rho(nevt)\n",
    "res = ff(xvals)/nevt/px\n",
    "print(f\"RTBM integral post training: {np.sum(res)}\")"
   ]
  },
  {
   "cell_type": "code",
   "execution_count": null,
   "metadata": {},
   "outputs": [],
   "source": []
  }
 ],
 "metadata": {
  "kernelspec": {
   "display_name": "vflow",
   "language": "python",
   "name": "vflow"
  },
  "language_info": {
   "codemirror_mode": {
    "name": "ipython",
    "version": 3
   },
   "file_extension": ".py",
   "mimetype": "text/x-python",
   "name": "python",
   "nbconvert_exporter": "python",
   "pygments_lexer": "ipython3",
   "version": "3.6.9"
  }
 },
 "nbformat": 4,
 "nbformat_minor": 4
}
