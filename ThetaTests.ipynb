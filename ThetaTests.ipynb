{
 "cells": [
  {
   "cell_type": "code",
   "execution_count": 1,
   "metadata": {},
   "outputs": [],
   "source": [
    "from theta.rtbm import RTBM\n",
    "import numpy as np\n",
    "import matplotlib.pyplot as plt\n",
    "%matplotlib inline"
   ]
  },
  {
   "cell_type": "code",
   "execution_count": 15,
   "metadata": {},
   "outputs": [],
   "source": [
    "ndim = 4\n",
    "nhid = 2\n",
    "rtbm = RTBM(ndim, nhid, \n",
    "            minimization_bound=50, \n",
    "            positive_T=True, \n",
    "            positive_Q=True,\n",
    "            random_bound=0.5,\n",
    "            #gaussian_init=True\n",
    "           )\n",
    "\n",
    "def espacio(sample, n=1e5):\n",
    "    n = int(n)\n",
    "    u = np.max(sample)\n",
    "    l = np.min(sample)\n",
    "    epsilon = np.abs(u)/4.0\n",
    "    u += epsilon\n",
    "    l -= epsilon\n",
    "    r = np.random.rand(ndim, n)\n",
    "    return l + r*(u-l), pow(u-l, ndim)/n"
   ]
  },
  {
   "cell_type": "code",
   "execution_count": 16,
   "metadata": {},
   "outputs": [],
   "source": [
    "# Sample after random initialization\n",
    "nevt = int(1e3)\n",
    "xrand, _ = rtbm.make_sample(nevt)\n",
    "jac = rtbm(xrand.T)"
   ]
  },
  {
   "cell_type": "code",
   "execution_count": 17,
   "metadata": {},
   "outputs": [
    {
     "name": "stdout",
     "output_type": "stream",
     "text": [
      "Dimension: 1\n"
     ]
    },
    {
     "data": {
      "image/png": "[encoded data removed]",
      "text/plain": [
       "<Figure size 432x288 with 1 Axes>"
      ]
     },
     "metadata": {
      "needs_background": "light"
     },
     "output_type": "display_data"
    },
    {
     "name": "stdout",
     "output_type": "stream",
     "text": [
      "Dimension: 2\n"
     ]
    },
    {
     "data": {
      "image/png": "[encoded data removed]",
      "text/plain": [
       "<Figure size 432x288 with 1 Axes>"
      ]
     },
     "metadata": {
      "needs_background": "light"
     },
     "output_type": "display_data"
    },
    {
     "name": "stdout",
     "output_type": "stream",
     "text": [
      "Dimension: 3\n"
     ]
    },
    {
     "data": {
      "image/png": "[encoded data removed]",
      "text/plain": [
       "<Figure size 432x288 with 1 Axes>"
      ]
     },
     "metadata": {
      "needs_background": "light"
     },
     "output_type": "display_data"
    },
    {
     "name": "stdout",
     "output_type": "stream",
     "text": [
      "Dimension: 4\n"
     ]
    },
    {
     "data": {
      "image/png": "[encoded data removed]",
      "text/plain": [
       "<Figure size 432x288 with 1 Axes>"
      ]
     },
     "metadata": {
      "needs_background": "light"
     },
     "output_type": "display_data"
    }
   ],
   "source": [
    "for d in range(ndim):\n",
    "    print(f\"Dimension: {d+1}\")\n",
    "    plt.subplot(1,2,1)\n",
    "    x = sorted(xrand[:,d])\n",
    "    y = [i for _, i in sorted(zip(xrand[:,d], jac[0]))]\n",
    "    plt.plot(x, y, color=\"blue\", label=f\"p(x_{d+1})\")\n",
    "    plt.hist(xrand[:, d], bins=25, density=True, color=\"lightgray\", label=\"Sample\")\n",
    "    plt.show()"
   ]
  },
  {
   "cell_type": "code",
   "execution_count": 14,
   "metadata": {},
   "outputs": [
    {
     "name": "stdout",
     "output_type": "stream",
     "text": [
      "1.0479732568015923\n"
     ]
    }
   ],
   "source": [
    "r, jac = espacio(xrand, n=1e5)\n",
    "aa = rtbm(r)\n",
    "print(np.sum(aa)*jac)"
   ]
  },
  {
   "cell_type": "code",
   "execution_count": null,
   "metadata": {},
   "outputs": [],
   "source": []
  },
  {
   "cell_type": "code",
   "execution_count": null,
   "metadata": {},
   "outputs": [],
   "source": []
  }
 ],
 "metadata": {
  "kernelspec": {
   "display_name": "vflow",
   "language": "python",
   "name": "vflow"
  },
  "language_info": {
   "codemirror_mode": {
    "name": "ipython",
    "version": 3
   },
   "file_extension": ".py",
   "mimetype": "text/x-python",
   "name": "python",
   "nbconvert_exporter": "python",
   "pygments_lexer": "ipython3",
   "version": "3.9.1"
  }
 },
 "nbformat": 4,
 "nbformat_minor": 4
}
