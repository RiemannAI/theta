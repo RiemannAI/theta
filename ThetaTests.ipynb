{
 "cells": [
  {
   "cell_type": "code",
   "execution_count": 1,
   "metadata": {},
   "outputs": [],
   "source": [
    "from theta.rtbm import RTBM\n",
    "import numpy as np\n",
    "import matplotlib.pyplot as plt\n",
    "from theta.minimizer import CMA, SGD\n",
    "from theta import costfunctions\n",
    "%matplotlib inline"
   ]
  },
  {
   "cell_type": "code",
   "execution_count": null,
   "metadata": {},
   "outputs": [
    {
     "name": "stdout",
     "output_type": "stream",
     "text": [
      "> \u001b[0;32m/media/storageSSD/Academic_Workspace/N3PDF/theta/theta/rtbm.py\u001b[0m(239)\u001b[0;36mgaussian_initialize\u001b[0;34m()\u001b[0m\n",
      "\u001b[0;32m    238 \u001b[0;31m        \u001b[0;32mimport\u001b[0m \u001b[0mipdb\u001b[0m\u001b[0;34m;\u001b[0m \u001b[0mipdb\u001b[0m\u001b[0;34m.\u001b[0m\u001b[0mset_trace\u001b[0m\u001b[0;34m(\u001b[0m\u001b[0;34m)\u001b[0m\u001b[0;34m\u001b[0m\u001b[0;34m\u001b[0m\u001b[0m\n",
      "\u001b[0m\u001b[0;32m--> 239 \u001b[0;31m        \u001b[0mself\u001b[0m\u001b[0;34m.\u001b[0m\u001b[0m_bounds\u001b[0m\u001b[0;34m[\u001b[0m\u001b[0;36m0\u001b[0m\u001b[0;34m]\u001b[0m\u001b[0;34m[\u001b[0m\u001b[0mt_idx\u001b[0m\u001b[0;34m:\u001b[0m \u001b[0mt_idx\u001b[0m\u001b[0;34m+\u001b[0m\u001b[0mt_size\u001b[0m\u001b[0;34m]\u001b[0m \u001b[0;34m=\u001b[0m \u001b[0mt_bound_min\u001b[0m\u001b[0;34m\u001b[0m\u001b[0;34m\u001b[0m\u001b[0m\n",
      "\u001b[0m\u001b[0;32m    240 \u001b[0;31m        \u001b[0mself\u001b[0m\u001b[0;34m.\u001b[0m\u001b[0m_bounds\u001b[0m\u001b[0;34m[\u001b[0m\u001b[0;36m1\u001b[0m\u001b[0;34m]\u001b[0m\u001b[0;34m[\u001b[0m\u001b[0mt_idx\u001b[0m\u001b[0;34m:\u001b[0m \u001b[0mt_idx\u001b[0m\u001b[0;34m+\u001b[0m\u001b[0mt_size\u001b[0m\u001b[0;34m]\u001b[0m \u001b[0;34m=\u001b[0m \u001b[0mt_bound_max\u001b[0m\u001b[0;34m\u001b[0m\u001b[0;34m\u001b[0m\u001b[0m\n",
      "\u001b[0m\n",
      "ipdb> print(self._bounds)\n",
      "[array([-55, -55, -55,   0,   0]), array([55, 55, 55, 55, 55])]\n",
      "ipdb> n\n",
      "> \u001b[0;32m/media/storageSSD/Academic_Workspace/N3PDF/theta/theta/rtbm.py\u001b[0m(240)\u001b[0;36mgaussian_initialize\u001b[0;34m()\u001b[0m\n",
      "\u001b[0;32m    239 \u001b[0;31m        \u001b[0mself\u001b[0m\u001b[0;34m.\u001b[0m\u001b[0m_bounds\u001b[0m\u001b[0;34m[\u001b[0m\u001b[0;36m0\u001b[0m\u001b[0;34m]\u001b[0m\u001b[0;34m[\u001b[0m\u001b[0mt_idx\u001b[0m\u001b[0;34m:\u001b[0m \u001b[0mt_idx\u001b[0m\u001b[0;34m+\u001b[0m\u001b[0mt_size\u001b[0m\u001b[0;34m]\u001b[0m \u001b[0;34m=\u001b[0m \u001b[0mt_bound_min\u001b[0m\u001b[0;34m\u001b[0m\u001b[0;34m\u001b[0m\u001b[0m\n",
      "\u001b[0m\u001b[0;32m--> 240 \u001b[0;31m        \u001b[0mself\u001b[0m\u001b[0;34m.\u001b[0m\u001b[0m_bounds\u001b[0m\u001b[0;34m[\u001b[0m\u001b[0;36m1\u001b[0m\u001b[0;34m]\u001b[0m\u001b[0;34m[\u001b[0m\u001b[0mt_idx\u001b[0m\u001b[0;34m:\u001b[0m \u001b[0mt_idx\u001b[0m\u001b[0;34m+\u001b[0m\u001b[0mt_size\u001b[0m\u001b[0;34m]\u001b[0m \u001b[0;34m=\u001b[0m \u001b[0mt_bound_max\u001b[0m\u001b[0;34m\u001b[0m\u001b[0;34m\u001b[0m\u001b[0m\n",
      "\u001b[0m\u001b[0;32m    241 \u001b[0;31m\u001b[0;34m\u001b[0m\u001b[0m\n",
      "\u001b[0m\n",
      "ipdb> print(self._bounds)\n",
      "[array([-55, -55, -55,   0,   0]), array([55, 55, 55, 55, 55])]\n",
      "ipdb> self._bounds[1][t_idx: t_idx+t_size]\n",
      "array([55])\n",
      "ipdb> t_bound_max\n",
      "0.7683161486467348\n"
     ]
    }
   ],
   "source": [
    "ndim = 1\n",
    "nhid = 1\n",
    "rtbm = RTBM(ndim, nhid, \n",
    "            minimization_bound=55, \n",
    "            positive_T=True, \n",
    "            positive_Q=True,\n",
    "            gaussian_init=True           )\n",
    "\n",
    "def espacio(sample, n=1e5):\n",
    "    n = int(n)\n",
    "    u = np.max(sample)\n",
    "    l = np.min(sample)\n",
    "    epsilon = np.abs(u)/4.0\n",
    "    u += epsilon\n",
    "    l -= epsilon\n",
    "    r = np.random.rand(ndim, n)\n",
    "    return l + r*(u-l), pow(u-l, ndim)/n"
   ]
  },
  {
   "cell_type": "code",
   "execution_count": 3,
   "metadata": {},
   "outputs": [],
   "source": [
    "# Check that the integral integrates correctly\n",
    "if False:\n",
    "    nevt = int(1e5)\n",
    "    ff = lambda x: np.prod(np.sin(x*np.pi), axis=0)\n",
    "    def scale_01(x):\n",
    "        xmax = np.max(x, axis=0)\n",
    "        xmin = np.min(x, axis=0)\n",
    "        return (x - xmin)/(xmax-xmin)\n",
    "\n",
    "    print(\"- > Checking the RTBM for sanity\")\n",
    "    r, _ = rtbm.make_sample(nevt)\n",
    "    rmean = np.mean(r, axis=0)\n",
    "    rstd = np.std(r, axis=0)\n",
    "    rmax = rmean + 5.0*rstd\n",
    "    rmin = rmean - 5.0*rstd\n",
    "    delta = rmax-rmin\n",
    "    new_r = np.random.rand(ndim, nevt)*delta.reshape(ndim,1) + rmin.reshape(ndim, 1)\n",
    "    px = rtbm(new_r)/nevt\n",
    "    \n",
    "    print(f\"sum: {np.sum(px)}\")\n",
    "    print(f\"N/V: {1/np.prod(delta)}\")\n",
    "    print(f\"Integral=1: {np.prod(delta)*np.sum(px)}\")\n",
    "    \n",
    "    def g(z):\n",
    "        x = (z-rmin.reshape(ndim,1))/(rmax-rmin).reshape(ndim,1)\n",
    "        return ff(x)\n",
    "\n",
    "    print(\"- > Checking the actual result of the integral\")\n",
    "    random_uniform = np.stack([np.random.uniform(rmin[i], rmax[i], size=nevt) for i in range(ndim)], axis=0)\n",
    "    res_true = ff(np.random.rand(ndim, nevt))/nevt\n",
    "    res = g(random_uniform)/nevt\n",
    "    print(f\"Integral true result: {np.sum(res_true)}\")\n",
    "    print(f\"Integral rescaled_result: {np.sum(res)}\")\n",
    "    \n",
    "    print(\"- > Integrating with the simple RTBM g(z)\")\n",
    "    #r,  _ = rtbm.make_sample(nevt)\n",
    "    prob_x = rtbm(r.T)[0]\n",
    "    resbm = g(r.T)/nevt/prob_x/np.prod(delta)\n",
    "    print(f\"RTBM integral: {np.sum(resbm)}\")\n",
    "    \n",
    "    print(\"- > Asking the RTBM for the probability and x between 0 and 1\")\n",
    "    # Now do everything from the RTBM\n",
    "    rtbm_x, rho_x = rtbm.make_sample_rho(nevt)\n",
    "    res = ff(rtbm_x.T)/nevt/rho_x\n",
    "    print(f\"RTBM sample integral: {np.sum(res)}\")"
   ]
  },
  {
   "cell_type": "code",
   "execution_count": 4,
   "metadata": {},
   "outputs": [
    {
     "data": {
      "image/png": "[encoded data removed]",
      "text/plain": [
       "<Figure size 1152x216 with 1 Axes>"
      ]
     },
     "metadata": {
      "needs_background": "light"
     },
     "output_type": "display_data"
    }
   ],
   "source": [
    "plt.rcParams['figure.figsize'] = [16, 3]\n",
    "\n",
    "def do_rescale(xrand, y):\n",
    "    max_per_d = np.max(xrand, axis=0)\n",
    "    min_per_d = np.min(xrand, axis=0)\n",
    "    delta = max_per_d - min_per_d\n",
    "    new_rand = (xrand-min_per_d)/delta\n",
    "    new_y = y*np.prod(delta)\n",
    "    return new_rand, new_y\n",
    "\n",
    "def dome(nevt=1e3, do_rho=True, rescale=True):\n",
    "    # Sample after gaussian initialization\n",
    "    nevt = int(nevt)\n",
    "    xrand, _ = rtbm.make_sample(nevt)\n",
    "    jac = rtbm(xrand.T)[0]\n",
    "    \n",
    "    if rescale:\n",
    "        xrand, jac = do_rescale(xrand, jac)\n",
    "    \n",
    "    for d in range(ndim):\n",
    "        plt.subplot(1,ndim,d+1)\n",
    "        plt.title(f\"Dimension: {d+1}\")\n",
    "        if do_rho:\n",
    "            x = sorted(xrand[:,d])\n",
    "            y = [i for _, i in sorted(zip(xrand[:,d], jac))]\n",
    "            plt.plot(x, y, color=\"blue\", label=f\"p(x_{d+1})\", alpha=0.5)\n",
    "        plt.hist(xrand[:, d], bins=25, density=True, color=\"lightgray\", label=\"Sample\")\n",
    "    plt.show()\n",
    "    return xrand\n",
    "xrand = dome(do_rho=False)"
   ]
  },
  {
   "cell_type": "code",
   "execution_count": 5,
   "metadata": {},
   "outputs": [
    {
     "data": {
      "text/plain": [
       "(1000, 1)"
      ]
     },
     "execution_count": 5,
     "metadata": {},
     "output_type": "execute_result"
    }
   ],
   "source": [
    "xrand.shape"
   ]
  },
  {
   "cell_type": "code",
   "execution_count": 6,
   "metadata": {},
   "outputs": [
    {
     "name": "stdout",
     "output_type": "stream",
     "text": [
      "0.3977869068107139\n"
     ]
    }
   ],
   "source": [
    "r, jac = espacio(xrand, n=1e5)\n",
    "aa = rtbm(r)\n",
    "print(np.sum(aa)*jac)"
   ]
  },
  {
   "cell_type": "code",
   "execution_count": 7,
   "metadata": {},
   "outputs": [
    {
     "data": {
      "image/png": "[encoded data removed]",
      "text/plain": [
       "<Figure size 1152x216 with 1 Axes>"
      ]
     },
     "metadata": {
      "needs_background": "light"
     },
     "output_type": "display_data"
    },
    {
     "name": "stdout",
     "output_type": "stream",
     "text": [
      "Current mse: 0.07401196511335159\n",
      "Current KL: 1.3022280682891894\n"
     ]
    }
   ],
   "source": [
    "# Now train the RTBM to a _different_ functional form\n",
    "from scipy.special import expit\n",
    "n = int(1e4)\n",
    "ff = lambda x: np.prod(np.sin(x*np.pi*2)**12, axis=1)\n",
    "xvals = np.random.rand(n, ndim)\n",
    "yvals_raw = ff(xvals)\n",
    "yvals = yvals_raw/np.sum(yvals_raw)\n",
    "for d in range(ndim):\n",
    "    plt.subplot(1,ndim,d+1)\n",
    "    plt.title(f\"Dimension: {d+1}\")\n",
    "    x = sorted(xvals[:,d])\n",
    "    y = [i for _, i in sorted(zip(xvals[:,d], yvals))]\n",
    "    plt.plot(x, y, color=\"blue\", label=f\"p(x_{d+1})\")\n",
    "    #plt.hist(xrand[:, d], bins=25, density=True, color=\"lightgray\", label=\"Sample\")\n",
    "plt.show()\n",
    "\n",
    "current_val = rtbm(xvals.T)[0]\n",
    "print(f\"Current mse: {costfunctions.mse.cost(current_val, yvals)}\")\n",
    "print(f\"Current KL: {costfunctions.kullbackLeibler.cost(current_val, yvals)}\")"
   ]
  },
  {
   "cell_type": "code",
   "execution_count": 8,
   "metadata": {},
   "outputs": [
    {
     "data": {
      "image/png": "[encoded data removed]",
      "text/plain": [
       "<Figure size 1152x216 with 1 Axes>"
      ]
     },
     "metadata": {
      "needs_background": "light"
     },
     "output_type": "display_data"
    }
   ],
   "source": [
    "nevt = int(1e4)\n",
    "xvals_train, _ = rtbm.make_sample(nevt)\n",
    "jac = rtbm(xvals_train.T)\n",
    "new_xvals, jac = do_rescale(xvals_train, jac)\n",
    "\n",
    "# rescale the sample\n",
    "yvals_train = ff(new_xvals)*jac\n",
    "for d in range(ndim):\n",
    "    plt.subplot(1,ndim,d+1)\n",
    "    plt.title(f\"Dimension: {d+1}\")\n",
    "    x = sorted(xvals_train[:,d])\n",
    "    y = [i for _, i in sorted(zip(xvals_train[:,d], yvals_train[0]))]\n",
    "    plt.plot(x, y, color=\"blue\", label=f\"p(x_{d+1})\")\n",
    "    #plt.hist(xrand[:, d], bins=25, density=True, color=\"lightgray\", label=\"Sample\")\n",
    "plt.show()"
   ]
  },
  {
   "cell_type": "code",
   "execution_count": 9,
   "metadata": {
    "scrolled": true
   },
   "outputs": [
    {
     "name": "stderr",
     "output_type": "stream",
     "text": [
      "/media/storageSSD/Academic_Workspace/N3PDF/src/pycma/cma/utilities/utils.py:343: UserWarning: \n",
      "            Initial solution is out of the domain boundaries:\n",
      "                x0   = [-1.26864812e-02  0.00000000e+00  0.00000000e+00  5.45396162e-01\n",
      "  2.71593866e+01]\n",
      "                ldom = [-55 -55 -55   0   0]\n",
      "                udom = [55 55 55  0 55]\n",
      "            THIS MIGHT LEAD TO AN EXCEPTION RAISED LATER ON.\n",
      "             (class=CMAEvolutionStrategy method=__init__ )\n",
      "  warnings.warn(msg + ' (' +\n"
     ]
    },
    {
     "ename": "ValueError",
     "evalue": "argument of inverse must be within the given bounds",
     "output_type": "error",
     "traceback": [
      "\u001b[0;31m------------------------------------------------------------------------\u001b[0m",
      "\u001b[0;31mValueError\u001b[0m                             Traceback (most recent call last)",
      "\u001b[0;32m<ipython-input-9-a2c0a60f7f14>\u001b[0m in \u001b[0;36m<module>\u001b[0;34m\u001b[0m\n\u001b[1;32m     25\u001b[0m \u001b[0;34m\u001b[0m\u001b[0m\n\u001b[1;32m     26\u001b[0m \u001b[0mn\u001b[0m \u001b[0;34m=\u001b[0m \u001b[0;36m1\u001b[0m\u001b[0;34m\u001b[0m\u001b[0;34m\u001b[0m\u001b[0m\n\u001b[0;32m---> 27\u001b[0;31m \u001b[0mres\u001b[0m \u001b[0;34m=\u001b[0m \u001b[0moptimize\u001b[0m\u001b[0;34m(\u001b[0m\u001b[0mn\u001b[0m\u001b[0;34m)\u001b[0m\u001b[0;34m\u001b[0m\u001b[0;34m\u001b[0m\u001b[0m\n\u001b[0m\u001b[1;32m     28\u001b[0m \u001b[0;32mwhile\u001b[0m \u001b[0;32mnot\u001b[0m \u001b[0mrtbm\u001b[0m\u001b[0;34m.\u001b[0m\u001b[0mset_parameters\u001b[0m\u001b[0;34m(\u001b[0m\u001b[0mres\u001b[0m\u001b[0;34m.\u001b[0m\u001b[0mxbest\u001b[0m\u001b[0;34m)\u001b[0m\u001b[0;34m:\u001b[0m\u001b[0;34m\u001b[0m\u001b[0;34m\u001b[0m\u001b[0m\n\u001b[1;32m     29\u001b[0m     \u001b[0mprint\u001b[0m\u001b[0;34m(\u001b[0m\u001b[0;34m\"Rerunning the optimization, changing sigma\"\u001b[0m\u001b[0;34m)\u001b[0m\u001b[0;34m\u001b[0m\u001b[0;34m\u001b[0m\u001b[0m\n",
      "\u001b[0;32m<ipython-input-9-a2c0a60f7f14>\u001b[0m in \u001b[0;36moptimize\u001b[0;34m(n)\u001b[0m\n\u001b[1;32m      6\u001b[0m \u001b[0;32mdef\u001b[0m \u001b[0moptimize\u001b[0m\u001b[0;34m(\u001b[0m\u001b[0mn\u001b[0m\u001b[0;34m=\u001b[0m\u001b[0;36m1\u001b[0m\u001b[0;34m)\u001b[0m\u001b[0;34m:\u001b[0m\u001b[0;34m\u001b[0m\u001b[0;34m\u001b[0m\u001b[0m\n\u001b[1;32m      7\u001b[0m     \u001b[0msigma\u001b[0m \u001b[0;34m=\u001b[0m \u001b[0mnp\u001b[0m\u001b[0;34m.\u001b[0m\u001b[0mmin\u001b[0m\u001b[0;34m(\u001b[0m\u001b[0mbounds\u001b[0m\u001b[0;34m[\u001b[0m\u001b[0;36m1\u001b[0m\u001b[0;34m]\u001b[0m\u001b[0;34m)\u001b[0m\u001b[0;34m/\u001b[0m\u001b[0;34m(\u001b[0m\u001b[0;36m4.0\u001b[0m\u001b[0;34m*\u001b[0m\u001b[0mn\u001b[0m\u001b[0;34m)\u001b[0m\u001b[0;34m\u001b[0m\u001b[0;34m\u001b[0m\u001b[0m\n\u001b[0;32m----> 8\u001b[0;31m     \u001b[0mes\u001b[0m \u001b[0;34m=\u001b[0m \u001b[0mCMAEvolutionStrategy\u001b[0m\u001b[0;34m(\u001b[0m\u001b[0mx0\u001b[0m\u001b[0;34m,\u001b[0m \u001b[0msigma\u001b[0m\u001b[0;34m,\u001b[0m \u001b[0;34m{\u001b[0m\u001b[0;34m\"bounds\"\u001b[0m\u001b[0;34m:\u001b[0m\u001b[0mbounds\u001b[0m\u001b[0;34m,\u001b[0m \u001b[0;34m\"maxiter\"\u001b[0m\u001b[0;34m:\u001b[0m\u001b[0;36m250\u001b[0m\u001b[0;34m}\u001b[0m\u001b[0;34m)\u001b[0m\u001b[0;34m\u001b[0m\u001b[0;34m\u001b[0m\u001b[0m\n\u001b[0m\u001b[1;32m      9\u001b[0m     \u001b[0;31m# Create a function to be optimized:\u001b[0m\u001b[0;34m\u001b[0m\u001b[0;34m\u001b[0m\u001b[0;34m\u001b[0m\u001b[0m\n\u001b[1;32m     10\u001b[0m     \u001b[0;32mdef\u001b[0m \u001b[0mfun_crate\u001b[0m\u001b[0;34m(\u001b[0m\u001b[0mxin\u001b[0m\u001b[0;34m,\u001b[0m \u001b[0mytrue\u001b[0m\u001b[0;34m,\u001b[0m \u001b[0mmode\u001b[0m \u001b[0;34m=\u001b[0m \u001b[0;34m\"kl\"\u001b[0m\u001b[0;34m)\u001b[0m\u001b[0;34m:\u001b[0m\u001b[0;34m\u001b[0m\u001b[0;34m\u001b[0m\u001b[0m\n",
      "\u001b[0;32m/media/storageSSD/Academic_Workspace/N3PDF/src/pycma/cma/evolution_strategy.py\u001b[0m in \u001b[0;36m__init__\u001b[0;34m(self, x0, sigma0, inopts)\u001b[0m\n\u001b[1;32m   1482\u001b[0m                 \u001b[0;34m\"inverse for the user provided phenotype transformation \"\u001b[0m\u001b[0;34m\u001b[0m\u001b[0;34m\u001b[0m\u001b[0m\n\u001b[1;32m   1483\u001b[0m                 \"was given\")\n\u001b[0;32m-> 1484\u001b[0;31m         self.mean = self.gp.geno(np.array(self.x0, copy=True),\n\u001b[0m\u001b[1;32m   1485\u001b[0m                             \u001b[0mfrom_bounds\u001b[0m\u001b[0;34m=\u001b[0m\u001b[0mself\u001b[0m\u001b[0;34m.\u001b[0m\u001b[0mboundary_handler\u001b[0m\u001b[0;34m.\u001b[0m\u001b[0minverse\u001b[0m\u001b[0;34m,\u001b[0m\u001b[0;34m\u001b[0m\u001b[0;34m\u001b[0m\u001b[0m\n\u001b[1;32m   1486\u001b[0m                             copy=False)\n",
      "\u001b[0;32m/media/storageSSD/Academic_Workspace/N3PDF/src/pycma/cma/transformations.py\u001b[0m in \u001b[0;36mgeno\u001b[0;34m(self, y, from_bounds, copy, repair, archive)\u001b[0m\n\u001b[1;32m    941\u001b[0m         \u001b[0mx\u001b[0m \u001b[0;34m=\u001b[0m \u001b[0my\u001b[0m\u001b[0;34m\u001b[0m\u001b[0;34m\u001b[0m\u001b[0m\n\u001b[1;32m    942\u001b[0m \u001b[0;34m\u001b[0m\u001b[0m\n\u001b[0;32m--> 943\u001b[0;31m         \u001b[0mx\u001b[0m \u001b[0;34m=\u001b[0m \u001b[0mfrom_bounds\u001b[0m\u001b[0;34m(\u001b[0m\u001b[0mx\u001b[0m\u001b[0;34m,\u001b[0m \u001b[0mcopy\u001b[0m\u001b[0;34m)\u001b[0m\u001b[0;34m\u001b[0m\u001b[0;34m\u001b[0m\u001b[0m\n\u001b[0m\u001b[1;32m    944\u001b[0m \u001b[0;34m\u001b[0m\u001b[0m\n\u001b[1;32m    945\u001b[0m         \u001b[0;32mif\u001b[0m \u001b[0mself\u001b[0m\u001b[0;34m.\u001b[0m\u001b[0misidentity\u001b[0m\u001b[0;34m:\u001b[0m\u001b[0;34m\u001b[0m\u001b[0;34m\u001b[0m\u001b[0m\n",
      "\u001b[0;32m/media/storageSSD/Academic_Workspace/N3PDF/src/pycma/cma/constraints_handler.py\u001b[0m in \u001b[0;36minverse\u001b[0;34m(self, x, copy_if_changed)\u001b[0m\n\u001b[1;32m    253\u001b[0m                                    self.bounds[1] is None):\n\u001b[1;32m    254\u001b[0m             \u001b[0;32mreturn\u001b[0m \u001b[0mx\u001b[0m\u001b[0;34m\u001b[0m\u001b[0;34m\u001b[0m\u001b[0m\n\u001b[0;32m--> 255\u001b[0;31m         \u001b[0;32mreturn\u001b[0m \u001b[0mnp\u001b[0m\u001b[0;34m.\u001b[0m\u001b[0masarray\u001b[0m\u001b[0;34m(\u001b[0m\u001b[0mself\u001b[0m\u001b[0;34m.\u001b[0m\u001b[0mbounds_tf\u001b[0m\u001b[0;34m.\u001b[0m\u001b[0minverse\u001b[0m\u001b[0;34m(\u001b[0m\u001b[0mx\u001b[0m\u001b[0;34m,\u001b[0m \u001b[0mcopy_if_changed\u001b[0m\u001b[0;34m)\u001b[0m\u001b[0;34m)\u001b[0m  \u001b[0;31m# this doesn't exist\u001b[0m\u001b[0;34m\u001b[0m\u001b[0;34m\u001b[0m\u001b[0m\n\u001b[0m\u001b[1;32m    256\u001b[0m \u001b[0;34m\u001b[0m\u001b[0m\n\u001b[1;32m    257\u001b[0m \u001b[0;32mclass\u001b[0m \u001b[0mBoundPenalty\u001b[0m\u001b[0;34m(\u001b[0m\u001b[0mBoundaryHandlerBase\u001b[0m\u001b[0;34m)\u001b[0m\u001b[0;34m:\u001b[0m\u001b[0;34m\u001b[0m\u001b[0;34m\u001b[0m\u001b[0m\n",
      "\u001b[0;32m/media/storageSSD/Academic_Workspace/N3PDF/src/pycma/cma/transformations.py\u001b[0m in \u001b[0;36minverse\u001b[0;34m(self, solution_in_phenotype, *args, **kwars)\u001b[0m\n\u001b[1;32m    138\u001b[0m     \u001b[0mtransform\u001b[0m \u001b[0;34m=\u001b[0m \u001b[0m__call__\u001b[0m\u001b[0;34m\u001b[0m\u001b[0;34m\u001b[0m\u001b[0m\n\u001b[1;32m    139\u001b[0m     \u001b[0;32mdef\u001b[0m \u001b[0minverse\u001b[0m\u001b[0;34m(\u001b[0m\u001b[0mself\u001b[0m\u001b[0;34m,\u001b[0m \u001b[0msolution_in_phenotype\u001b[0m\u001b[0;34m,\u001b[0m \u001b[0;34m*\u001b[0m\u001b[0margs\u001b[0m\u001b[0;34m,\u001b[0m \u001b[0;34m**\u001b[0m\u001b[0mkwars\u001b[0m\u001b[0;34m)\u001b[0m\u001b[0;34m:\u001b[0m\u001b[0;34m\u001b[0m\u001b[0;34m\u001b[0m\u001b[0m\n\u001b[0;32m--> 140\u001b[0;31m         \u001b[0;32mreturn\u001b[0m \u001b[0;34m[\u001b[0m\u001b[0mself\u001b[0m\u001b[0;34m.\u001b[0m\u001b[0m_inverse_i\u001b[0m\u001b[0;34m(\u001b[0m\u001b[0my\u001b[0m\u001b[0;34m,\u001b[0m \u001b[0mi\u001b[0m\u001b[0;34m)\u001b[0m \u001b[0;32mfor\u001b[0m \u001b[0mi\u001b[0m\u001b[0;34m,\u001b[0m \u001b[0my\u001b[0m \u001b[0;32min\u001b[0m \u001b[0menumerate\u001b[0m\u001b[0;34m(\u001b[0m\u001b[0msolution_in_phenotype\u001b[0m\u001b[0;34m)\u001b[0m\u001b[0;34m]\u001b[0m\u001b[0;34m\u001b[0m\u001b[0;34m\u001b[0m\u001b[0m\n\u001b[0m\u001b[1;32m    141\u001b[0m     \u001b[0;32mdef\u001b[0m \u001b[0m_index\u001b[0m\u001b[0;34m(\u001b[0m\u001b[0mself\u001b[0m\u001b[0;34m,\u001b[0m \u001b[0mi\u001b[0m\u001b[0;34m)\u001b[0m\u001b[0;34m:\u001b[0m\u001b[0;34m\u001b[0m\u001b[0;34m\u001b[0m\u001b[0m\n\u001b[1;32m    142\u001b[0m         \u001b[0;32mreturn\u001b[0m \u001b[0mmin\u001b[0m\u001b[0;34m(\u001b[0m\u001b[0;34m(\u001b[0m\u001b[0mi\u001b[0m\u001b[0;34m,\u001b[0m \u001b[0mlen\u001b[0m\u001b[0;34m(\u001b[0m\u001b[0mself\u001b[0m\u001b[0;34m.\u001b[0m\u001b[0mbounds\u001b[0m\u001b[0;34m)\u001b[0m \u001b[0;34m-\u001b[0m \u001b[0;36m1\u001b[0m\u001b[0;34m)\u001b[0m\u001b[0;34m)\u001b[0m\u001b[0;34m\u001b[0m\u001b[0;34m\u001b[0m\u001b[0m\n",
      "\u001b[0;32m/media/storageSSD/Academic_Workspace/N3PDF/src/pycma/cma/transformations.py\u001b[0m in \u001b[0;36m<listcomp>\u001b[0;34m(.0)\u001b[0m\n\u001b[1;32m    138\u001b[0m     \u001b[0mtransform\u001b[0m \u001b[0;34m=\u001b[0m \u001b[0m__call__\u001b[0m\u001b[0;34m\u001b[0m\u001b[0;34m\u001b[0m\u001b[0m\n\u001b[1;32m    139\u001b[0m     \u001b[0;32mdef\u001b[0m \u001b[0minverse\u001b[0m\u001b[0;34m(\u001b[0m\u001b[0mself\u001b[0m\u001b[0;34m,\u001b[0m \u001b[0msolution_in_phenotype\u001b[0m\u001b[0;34m,\u001b[0m \u001b[0;34m*\u001b[0m\u001b[0margs\u001b[0m\u001b[0;34m,\u001b[0m \u001b[0;34m**\u001b[0m\u001b[0mkwars\u001b[0m\u001b[0;34m)\u001b[0m\u001b[0;34m:\u001b[0m\u001b[0;34m\u001b[0m\u001b[0;34m\u001b[0m\u001b[0m\n\u001b[0;32m--> 140\u001b[0;31m         \u001b[0;32mreturn\u001b[0m \u001b[0;34m[\u001b[0m\u001b[0mself\u001b[0m\u001b[0;34m.\u001b[0m\u001b[0m_inverse_i\u001b[0m\u001b[0;34m(\u001b[0m\u001b[0my\u001b[0m\u001b[0;34m,\u001b[0m \u001b[0mi\u001b[0m\u001b[0;34m)\u001b[0m \u001b[0;32mfor\u001b[0m \u001b[0mi\u001b[0m\u001b[0;34m,\u001b[0m \u001b[0my\u001b[0m \u001b[0;32min\u001b[0m \u001b[0menumerate\u001b[0m\u001b[0;34m(\u001b[0m\u001b[0msolution_in_phenotype\u001b[0m\u001b[0;34m)\u001b[0m\u001b[0;34m]\u001b[0m\u001b[0;34m\u001b[0m\u001b[0;34m\u001b[0m\u001b[0m\n\u001b[0m\u001b[1;32m    141\u001b[0m     \u001b[0;32mdef\u001b[0m \u001b[0m_index\u001b[0m\u001b[0;34m(\u001b[0m\u001b[0mself\u001b[0m\u001b[0;34m,\u001b[0m \u001b[0mi\u001b[0m\u001b[0;34m)\u001b[0m\u001b[0;34m:\u001b[0m\u001b[0;34m\u001b[0m\u001b[0;34m\u001b[0m\u001b[0m\n\u001b[1;32m    142\u001b[0m         \u001b[0;32mreturn\u001b[0m \u001b[0mmin\u001b[0m\u001b[0;34m(\u001b[0m\u001b[0;34m(\u001b[0m\u001b[0mi\u001b[0m\u001b[0;34m,\u001b[0m \u001b[0mlen\u001b[0m\u001b[0;34m(\u001b[0m\u001b[0mself\u001b[0m\u001b[0;34m.\u001b[0m\u001b[0mbounds\u001b[0m\u001b[0;34m)\u001b[0m \u001b[0;34m-\u001b[0m \u001b[0;36m1\u001b[0m\u001b[0;34m)\u001b[0m\u001b[0;34m)\u001b[0m\u001b[0;34m\u001b[0m\u001b[0;34m\u001b[0m\u001b[0m\n",
      "\u001b[0;32m/media/storageSSD/Academic_Workspace/N3PDF/src/pycma/cma/transformations.py\u001b[0m in \u001b[0;36m_inverse_i\u001b[0;34m(self, y, i)\u001b[0m\n\u001b[1;32m    444\u001b[0m         \u001b[0;32mif\u001b[0m \u001b[0;36m1\u001b[0m \u001b[0;34m<\u001b[0m \u001b[0;36m3\u001b[0m\u001b[0;34m:\u001b[0m\u001b[0;34m\u001b[0m\u001b[0;34m\u001b[0m\u001b[0m\n\u001b[1;32m    445\u001b[0m             \u001b[0;32mif\u001b[0m \u001b[0;32mnot\u001b[0m \u001b[0mlb\u001b[0m \u001b[0;34m<=\u001b[0m \u001b[0my\u001b[0m \u001b[0;34m<=\u001b[0m \u001b[0mub\u001b[0m\u001b[0;34m:\u001b[0m\u001b[0;34m\u001b[0m\u001b[0;34m\u001b[0m\u001b[0m\n\u001b[0;32m--> 446\u001b[0;31m                 \u001b[0;32mraise\u001b[0m \u001b[0mValueError\u001b[0m\u001b[0;34m(\u001b[0m\u001b[0;34m'argument of inverse must be within the given bounds'\u001b[0m\u001b[0;34m)\u001b[0m\u001b[0;34m\u001b[0m\u001b[0;34m\u001b[0m\u001b[0m\n\u001b[0m\u001b[1;32m    447\u001b[0m         \u001b[0;32melse\u001b[0m\u001b[0;34m:\u001b[0m\u001b[0;34m\u001b[0m\u001b[0;34m\u001b[0m\u001b[0m\n\u001b[1;32m    448\u001b[0m             \u001b[0my\u001b[0m \u001b[0;34m-=\u001b[0m \u001b[0;36m2\u001b[0m \u001b[0;34m*\u001b[0m \u001b[0;34m(\u001b[0m\u001b[0mub\u001b[0m \u001b[0;34m-\u001b[0m \u001b[0mlb\u001b[0m\u001b[0;34m)\u001b[0m \u001b[0;34m*\u001b[0m \u001b[0mint\u001b[0m\u001b[0;34m(\u001b[0m\u001b[0;34m(\u001b[0m\u001b[0my\u001b[0m \u001b[0;34m-\u001b[0m \u001b[0mlb\u001b[0m\u001b[0;34m)\u001b[0m \u001b[0;34m/\u001b[0m \u001b[0;34m(\u001b[0m\u001b[0;36m2\u001b[0m \u001b[0;34m*\u001b[0m \u001b[0;34m(\u001b[0m\u001b[0mub\u001b[0m \u001b[0;34m-\u001b[0m \u001b[0mlb\u001b[0m\u001b[0;34m)\u001b[0m\u001b[0;34m)\u001b[0m\u001b[0;34m)\u001b[0m  \u001b[0;31m# comes close\u001b[0m\u001b[0;34m\u001b[0m\u001b[0;34m\u001b[0m\u001b[0m\n",
      "\u001b[0;31mValueError\u001b[0m: argument of inverse must be within the given bounds"
     ]
    }
   ],
   "source": [
    "from cma import CMAEvolutionStrategy\n",
    "\n",
    "x0 = rtbm.get_parameters()\n",
    "bounds = rtbm.get_bounds()\n",
    "\n",
    "def optimize(n=1):\n",
    "    sigma = np.min(bounds[1])/(4.0*n)\n",
    "    es = CMAEvolutionStrategy(x0, sigma, {\"bounds\":bounds, \"maxiter\":250})\n",
    "    # Create a function to be optimized:\n",
    "    def fun_crate(xin, ytrue, mode = \"kl\"):\n",
    "        def objective_fun(params=None):\n",
    "            if params is not None and not rtbm.set_parameters(params):\n",
    "                return np.NaN\n",
    "            prob = rtbm(xin.T)\n",
    "            if mode == \"kl\":\n",
    "                return -np.sum(ytrue*np.log(prob))\n",
    "            elif mode == \"mse\":\n",
    "                return np.sum((prob-ytrue)**2)\n",
    "\n",
    "        return objective_fun\n",
    "\n",
    "    target = fun_crate(xvals_train, yvals_train, mode=\"kl\")\n",
    "    es.optimize(target)\n",
    "    return es.result\n",
    "    \n",
    "n = 1\n",
    "res = optimize(n)\n",
    "while not rtbm.set_parameters(res.xbest):\n",
    "    print(\"Rerunning the optimization, changing sigma\")\n",
    "    n+=1\n",
    "    optimize(n)    "
   ]
  },
  {
   "cell_type": "code",
   "execution_count": null,
   "metadata": {},
   "outputs": [],
   "source": [
    "new_sample = dome(do_rho=True)\n",
    "new_pred = rtbm(new_sample.T)[0]\n",
    "new_y_raw = ff(new_sample)\n",
    "new_y = new_y_raw/np.sum(new_y_raw)\n",
    "print(f\"Current mse: {costfunctions.mse.cost(new_pred, new_y)}\")\n",
    "print(f\"Current KL: {costfunctions.kullbackLeibler.cost(new_pred, new_y)}\")\n",
    "print(\"Integral:\")\n",
    "r, jac = espacio(new_sample, n=1e5)\n",
    "aa = rtbm(r)\n",
    "print(np.sum(aa)*jac)"
   ]
  },
  {
   "cell_type": "code",
   "execution_count": null,
   "metadata": {},
   "outputs": [],
   "source": []
  }
 ],
 "metadata": {
  "kernelspec": {
   "display_name": "vflow",
   "language": "python",
   "name": "vflow"
  },
  "language_info": {
   "codemirror_mode": {
    "name": "ipython",
    "version": 3
   },
   "file_extension": ".py",
   "mimetype": "text/x-python",
   "name": "python",
   "nbconvert_exporter": "python",
   "pygments_lexer": "ipython3",
   "version": "3.9.1"
  }
 },
 "nbformat": 4,
 "nbformat_minor": 4
}
